{
 "cells": [
  {
   "cell_type": "code",
   "execution_count": 1,
   "metadata": {
    "slideshow": {
     "slide_type": "slide"
    }
   },
   "outputs": [
    {
     "name": "stderr",
     "output_type": "stream",
     "text": [
      "Using TensorFlow backend.\n"
     ]
    }
   ],
   "source": [
    "import sys\n",
    "# sys.path.append(\"C:\\\\Users\\\\infinigru\\\\Anaconda3\\\\envs\\\\prac\\\\lib\\\\site-packages\")\n",
    "import os\n",
    "import numpy as np\n",
    "import json\n",
    "import pandas as pd\n",
    "import keras\n",
    "from sklearn import metrics\n",
    "from sklearn.metrics import confusion_matrix\n",
    "sys.path = [\"C:\\\\Users\\\\infinigru\\\\Anaconda3\\\\envs\\\\prac\\\\lib\\\\site-packages\"] + sys.path\n",
    "\n",
    "from config import *\n",
    "from utils.util import *\n",
    "# from model import *\n",
    "from iterator import DataIterator"
   ]
  },
  {
   "cell_type": "code",
   "execution_count": 2,
   "metadata": {},
   "outputs": [],
   "source": [
    "hist = pd.read_csv(os.path.join(RESULT_PATH,\"checkpoint_hist.csv\"))"
   ]
  },
  {
   "cell_type": "code",
   "execution_count": 3,
   "metadata": {},
   "outputs": [
    {
     "data": {
      "text/html": [
       "<div>\n",
       "<style scoped>\n",
       "    .dataframe tbody tr th:only-of-type {\n",
       "        vertical-align: middle;\n",
       "    }\n",
       "\n",
       "    .dataframe tbody tr th {\n",
       "        vertical-align: top;\n",
       "    }\n",
       "\n",
       "    .dataframe thead th {\n",
       "        text-align: right;\n",
       "    }\n",
       "</style>\n",
       "<table border=\"1\" class=\"dataframe\">\n",
       "  <thead>\n",
       "    <tr style=\"text-align: right;\">\n",
       "      <th></th>\n",
       "      <th>epoch</th>\n",
       "      <th>loss</th>\n",
       "      <th>auc</th>\n",
       "      <th>val_loss</th>\n",
       "      <th>val_auc</th>\n",
       "    </tr>\n",
       "  </thead>\n",
       "  <tbody>\n",
       "    <tr>\n",
       "      <th>28</th>\n",
       "      <td>26</td>\n",
       "      <td>1.481791</td>\n",
       "      <td>0.997007</td>\n",
       "      <td>0.211995</td>\n",
       "      <td>0.947917</td>\n",
       "    </tr>\n",
       "    <tr>\n",
       "      <th>29</th>\n",
       "      <td>27</td>\n",
       "      <td>1.447524</td>\n",
       "      <td>0.997415</td>\n",
       "      <td>0.205071</td>\n",
       "      <td>0.942986</td>\n",
       "    </tr>\n",
       "    <tr>\n",
       "      <th>30</th>\n",
       "      <td>28</td>\n",
       "      <td>1.419774</td>\n",
       "      <td>0.997973</td>\n",
       "      <td>0.212263</td>\n",
       "      <td>0.951458</td>\n",
       "    </tr>\n",
       "    <tr>\n",
       "      <th>31</th>\n",
       "      <td>29</td>\n",
       "      <td>1.396207</td>\n",
       "      <td>0.998300</td>\n",
       "      <td>0.196270</td>\n",
       "      <td>0.952222</td>\n",
       "    </tr>\n",
       "    <tr>\n",
       "      <th>32</th>\n",
       "      <td>30</td>\n",
       "      <td>1.373080</td>\n",
       "      <td>0.998483</td>\n",
       "      <td>0.221934</td>\n",
       "      <td>0.940069</td>\n",
       "    </tr>\n",
       "  </tbody>\n",
       "</table>\n",
       "</div>"
      ],
      "text/plain": [
       "    epoch      loss       auc  val_loss   val_auc\n",
       "28     26  1.481791  0.997007  0.211995  0.947917\n",
       "29     27  1.447524  0.997415  0.205071  0.942986\n",
       "30     28  1.419774  0.997973  0.212263  0.951458\n",
       "31     29  1.396207  0.998300  0.196270  0.952222\n",
       "32     30  1.373080  0.998483  0.221934  0.940069"
      ]
     },
     "execution_count": 3,
     "metadata": {},
     "output_type": "execute_result"
    }
   ],
   "source": [
    "hist.tail()"
   ]
  },
  {
   "cell_type": "code",
   "execution_count": 4,
   "metadata": {},
   "outputs": [
    {
     "data": {
      "image/png": "[encoded data removed]",
      "text/plain": [
       "<Figure size 432x288 with 2 Axes>"
      ]
     },
     "metadata": {
      "needs_background": "light"
     },
     "output_type": "display_data"
    }
   ],
   "source": [
    "history_graph(hist,metics='auc')"
   ]
  },
  {
   "cell_type": "code",
   "execution_count": 5,
   "metadata": {},
   "outputs": [],
   "source": [
    "## train 했을때의 옵션\n",
    "with open(os.path.join(RESULT_PATH,'train_options.json'), 'r') as f:\n",
    "    train_options = json.loads(f.read())"
   ]
  },
  {
   "cell_type": "code",
   "execution_count": 6,
   "metadata": {},
   "outputs": [],
   "source": [
    "augm = train_options[\"augmemtation\"]"
   ]
  },
  {
   "cell_type": "code",
   "execution_count": 7,
   "metadata": {},
   "outputs": [
    {
     "name": "stdout",
     "output_type": "stream",
     "text": [
      "\n",
      "test data from : C:\\Projects\\my_Glaucoma_project_v2\\dataset\\test.h5\n"
     ]
    }
   ],
   "source": [
    "# augm = {\"gamma\":False, \"rotate\":False, \"polar\":False, \"hiseq\":True, \"normal\":False, \"flip\":False\n",
    "#         , \"copy\":True ,\"get_roi\":True}\n",
    "## load batch generator\n",
    "# print(f\"\\ntrain data from : {TRAIN_DATASET}\")\n",
    "# train_iterator = DataIterator(TRAIN_DATASET, 1, INPUT_IMAGE_SHAPE\n",
    "#                               , is_train=True\n",
    "#                               , rotate = augm['rotate'], polar = augm['polar'], hiseq = augm['hiseq'], get_roi = augm[\"get_roi\"]\n",
    "#                               , gamma = augm['gamma'], flip = augm['flip'], normal = augm['normal'])\n",
    "\n",
    "print(f\"\\ntest data from : {TEST_DATASET}\")\n",
    "test_iterator = DataIterator(TEST_DATASET, 1, INPUT_IMAGE_SHAPE\n",
    "                            , is_train=False, polar= augm['polar'], hiseq = augm['hiseq']\n",
    "                             , get_roi = True, normal = augm['normal'])"
   ]
  },
  {
   "cell_type": "code",
   "execution_count": 8,
   "metadata": {},
   "outputs": [],
   "source": [
    "import json\n",
    "with open(os.path.join(RESULT_PATH,\"model.json\"), 'r') as f:\n",
    "    model_json = json.loads(f.read())"
   ]
  },
  {
   "cell_type": "code",
   "execution_count": 9,
   "metadata": {},
   "outputs": [
    {
     "name": "stdout",
     "output_type": "stream",
     "text": [
      "WARNING:tensorflow:From C:\\Users\\Gru-2019041\\Anaconda3\\envs\\prac\\lib\\site-packages\\tensorflow\\python\\framework\\op_def_library.py:263: colocate_with (from tensorflow.python.framework.ops) is deprecated and will be removed in a future version.\n",
      "Instructions for updating:\n",
      "Colocations handled automatically by placer.\n"
     ]
    }
   ],
   "source": [
    "model = keras.models.model_from_json(model_json)"
   ]
  },
  {
   "cell_type": "markdown",
   "metadata": {},
   "source": [
    "## Best epoch : checkpoint-024.h5"
   ]
  },
  {
   "cell_type": "code",
   "execution_count": 10,
   "metadata": {},
   "outputs": [
    {
     "name": "stdout",
     "output_type": "stream",
     "text": [
      "C:\\Projects\\my_Glaucoma_project_v2\\result\\checkpoint-024.h5\n"
     ]
    }
   ],
   "source": [
    "# os.path.join(RESULT_PATH,\"checkpoint-024.h5\")\n",
    "weight = last_cheackpoint(RESULT_PATH) # os.path.join(SEGMENT_RESULT_PATH,\"checkpoint-022.h5\")\n",
    "print(weight)\n",
    "model.load_weights(weight)"
   ]
  },
  {
   "cell_type": "code",
   "execution_count": 11,
   "metadata": {},
   "outputs": [
    {
     "name": "stdout",
     "output_type": "stream",
     "text": [
      "400/400 [==============================] - 229s 574ms/step\n"
     ]
    }
   ],
   "source": [
    "y_pred = model.predict_generator(test_iterator,\n",
    "                                 steps=None,\n",
    "                                 max_queue_size=30,\n",
    "                                 workers=4,\n",
    "                                 use_multiprocessing=False,\n",
    "                                 verbose=1\n",
    "                                 )"
   ]
  },
  {
   "cell_type": "code",
   "execution_count": 16,
   "metadata": {},
   "outputs": [],
   "source": [
    "y_true = test_iterator.get_label()"
   ]
  },
  {
   "cell_type": "code",
   "execution_count": 32,
   "metadata": {},
   "outputs": [
    {
     "name": "stdout",
     "output_type": "stream",
     "text": [
      "0.1      1,      0\n",
      "      1     32,     15\n",
      "      0      8,    345\n",
      "Sensitivity : 0.8\n",
      "Specificity : 0.95833\n"
     ]
    }
   ],
   "source": [
    "conf_mat, sensitivity, specificity = confusion_matrix_report(y_true, y_pred,0.1)\n",
    "print(conf_mat)\n",
    "print(f\"{sensitivity}\")\n",
    "print(f\"{specificity}\")"
   ]
  },
  {
   "cell_type": "code",
   "execution_count": 29,
   "metadata": {},
   "outputs": [],
   "source": [
    "error_df = pd.DataFrame({\"Class\":y_true.flatten(), \"y_pred\":y_pred.flatten()})"
   ]
  },
  {
   "cell_type": "code",
   "execution_count": 33,
   "metadata": {},
   "outputs": [],
   "source": [
    "def visualize_anomaly(error_df, threshold = None):\n",
    "    \"\"\"anomaly graph 출력\n",
    "    \n",
    "    Arguments:\n",
    "        error_df {pandas DataFrame} -- Class, y_pred column이 포함된 DataFrame\n",
    "                clss : label\n",
    "                y_pred : 예측된 스코어\n",
    "    \n",
    "    Keyword Arguments:\n",
    "        threshold {int} -- 그래프에 출력될 cut off값, 미지정시 상위 0.5% 자동  (default: {None})\n",
    "    \"\"\"\n",
    "    if threshold is None:\n",
    "        threshold = error_df[error_df['Class'] == 1].y_pred.quantile(q = 0.5) # 95 % higher\n",
    "        print('Generated threshold : {}'.format(threshold))\n",
    "        \n",
    "    fig, ax = plt.subplots(figsize = (10,6))\n",
    "\n",
    "    for name, group in error_df.groupby('Class'):\n",
    "        ax.plot(group.index, group['y_pred'], marker = 'o', linestyle = '', alpha = 0.6, \n",
    "                label = \"Glaucoma\" if name == 1 else \"Normal\",\n",
    "                color = 'r' if name == 1 else 'royalblue')\n",
    "\n",
    "    ax.hlines(threshold, ax.get_xlim()[0], ax.get_xlim()[1], \n",
    "              colors = 'r', zorder = 100, label = 'Threshold')\n",
    "    ax.legend()"
   ]
  },
  {
   "cell_type": "code",
   "execution_count": 34,
   "metadata": {},
   "outputs": [
    {
     "data": {
      "image/png": "[encoded data removed]",
      "text/plain": [
       "<Figure size 720x432 with 1 Axes>"
      ]
     },
     "metadata": {
      "needs_background": "light"
     },
     "output_type": "display_data"
    }
   ],
   "source": [
    "visualize_anomaly(error_df,threshold=0.1)"
   ]
  }
 ],
 "metadata": {
  "kernelspec": {
   "display_name": "Python 3",
   "language": "python",
   "name": "python3"
  },
  "language_info": {
   "codemirror_mode": {
    "name": "ipython",
    "version": 3
   },
   "file_extension": ".py",
   "mimetype": "text/x-python",
   "name": "python",
   "nbconvert_exporter": "python",
   "pygments_lexer": "ipython3",
   "version": "3.6.8"
  }
 },
 "nbformat": 4,
 "nbformat_minor": 2
}
