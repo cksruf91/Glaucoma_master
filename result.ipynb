{
 "cells": [
  {
   "cell_type": "code",
   "execution_count": null,
   "metadata": {
    "slideshow": {
     "slide_type": "slide"
    }
   },
   "outputs": [],
   "source": [
    "import sys\n",
    "# sys.path.append(\"C:\\\\Users\\\\infinigru\\\\Anaconda3\\\\envs\\\\prac\\\\lib\\\\site-packages\")\n",
    "import os\n",
    "import numpy as np\n",
    "import pandas as pd\n",
    "import keras\n",
    "from sklearn import metrics\n",
    "from sklearn.metrics import confusion_matrix\n",
    "sys.path = [\"C:\\\\Users\\\\infinigru\\\\Anaconda3\\\\envs\\\\prac\\\\lib\\\\site-packages\"] + sys.path\n",
    "\n",
    "from config import *\n",
    "from utils.util import *\n",
    "from models import *\n",
    "from iterator import DataIterator"
   ]
  },
  {
   "cell_type": "code",
   "execution_count": null,
   "metadata": {},
   "outputs": [],
   "source": [
    "hist = pd.read_csv(os.path.join(RESULT_PATH,\"checkpoint_hist.csv\"))"
   ]
  },
  {
   "cell_type": "code",
   "execution_count": null,
   "metadata": {},
   "outputs": [],
   "source": [
    "hist.tail()"
   ]
  },
  {
   "cell_type": "code",
   "execution_count": null,
   "metadata": {},
   "outputs": [],
   "source": [
    "history_graph(hist,metics='auc')"
   ]
  },
  {
   "cell_type": "code",
   "execution_count": null,
   "metadata": {},
   "outputs": [],
   "source": [
    "augm = {\"gamma\":False, \"rotate\":False, \"polar\":True, \"hiseq\":True, \"normal\":True, \"flip\":False, \"copy\":True}\n",
    "BATCH_SIZE =2 \n",
    "## load batch generator\n",
    "# print(f\"\\ntrain data from : {TRAIN_IMAGE}\")\n",
    "# train_iterator = DataIterator(TRAIN_IMAGE, MASK_LOC, BATCH_SIZE, IMAGE_SHAPE, OPTIC_DISC_SHAPE\n",
    "#                               , is_train=False, sample=None\n",
    "#                               , copy = augm['copy'], rotate = augm['rotate'], polar = augm['polar'], hiseq = augm['hiseq']\n",
    "#                               , gamma = augm['gamma'], flip = augm['flip'], normal = augm['normal'])\n",
    "\n",
    "print(f\"\\ntest data from : {TEST_IMAGE}\")\n",
    "test_iterator = DataIterator(TEST_IMAGE, MASK_LOC, BATCH_SIZE, IMAGE_SHAPE, OPTIC_DISC_SHAPE\n",
    "                             , is_train=False, sample=None\n",
    "                             , polar= augm['polar'], hiseq = augm['hiseq'], normal = augm['normal'])"
   ]
  },
  {
   "cell_type": "code",
   "execution_count": null,
   "metadata": {},
   "outputs": [],
   "source": [
    "import json\n",
    "with open(os.path.join(RESULT_PATH,\"model.json\"), 'r') as f:\n",
    "    model_json = json.loads(f.read())"
   ]
  },
  {
   "cell_type": "code",
   "execution_count": null,
   "metadata": {},
   "outputs": [],
   "source": [
    "model = keras.models.model_from_json(model_json)"
   ]
  },
  {
   "cell_type": "markdown",
   "metadata": {},
   "source": [
    "## Best epoch : checkpoint-024.h5"
   ]
  },
  {
   "cell_type": "code",
   "execution_count": null,
   "metadata": {},
   "outputs": [],
   "source": [
    "model.load_weights(os.path.join(RESULT_PATH,\"checkpoint-024.h5\"))"
   ]
  },
  {
   "cell_type": "code",
   "execution_count": null,
   "metadata": {},
   "outputs": [],
   "source": [
    "y_pred = model.predict_generator(test_iterator,\n",
    "                                 steps=None,\n",
    "                                 max_queue_size=10,\n",
    "                                 workers=2,\n",
    "                                 use_multiprocessing=False,\n",
    "                                 verbose=1\n",
    "                                 )"
   ]
  },
  {
   "cell_type": "code",
   "execution_count": null,
   "metadata": {},
   "outputs": [],
   "source": [
    "y_true = test_iterator.get_label()"
   ]
  },
  {
   "cell_type": "code",
   "execution_count": null,
   "metadata": {},
   "outputs": [],
   "source": [
    "conf_mat, sensitivity, specificity = confusion_matrix_report(y_true, y_pred)\n",
    "print(conf_mat)\n",
    "print(f\"sensitivity : {sensitivity}\")\n",
    "print(f\"specificity : {specificity}\")"
   ]
  },
  {
   "cell_type": "code",
   "execution_count": null,
   "metadata": {},
   "outputs": [],
   "source": [
    "error_df = pd.DataFrame({\"Class\":y_true.flatten(), \"y_pred\":y_pred.flatten()})"
   ]
  },
  {
   "cell_type": "code",
   "execution_count": null,
   "metadata": {},
   "outputs": [],
   "source": [
    "visualize_anomaly(error_df,threshold=0.15)"
   ]
  }
 ],
 "metadata": {
  "kernelspec": {
   "display_name": "Python 3",
   "language": "python",
   "name": "python3"
  },
  "language_info": {
   "codemirror_mode": {
    "name": "ipython",
    "version": 3
   },
   "file_extension": ".py",
   "mimetype": "text/x-python",
   "name": "python",
   "nbconvert_exporter": "python",
   "pygments_lexer": "ipython3",
   "version": "3.6.8"
  }
 },
 "nbformat": 4,
 "nbformat_minor": 2
}
